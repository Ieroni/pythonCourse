{
 "cells": [
  {
   "cell_type": "markdown",
   "metadata": {},
   "source": [
    "## Task2\n",
    "\n",
    "*На складе лежат разные фрукты в разном количестве. Нужно написать функцию, которая на вход принимает любое количество названий фруктов и их количество, а возвращает общее количество фруктов на складе*"
   ]
  },
  {
   "cell_type": "code",
   "execution_count": 1,
   "metadata": {},
   "outputs": [
    {
     "name": "stdout",
     "output_type": "stream",
     "text": [
      "Total number of fruits in stock: 57\n"
     ]
    }
   ],
   "source": [
    "def total_fruits_in_stock(**fruits):\n",
    "    total = 0\n",
    "    for quantity in fruits.values():\n",
    "        total += quantity\n",
    "    return total\n",
    "\n",
    "# Example usage:\n",
    "fruits_stock = {\n",
    "    'apple': 10,\n",
    "    'banana': 15,\n",
    "    'orange': 20,\n",
    "    'grapes': 12,\n",
    "}\n",
    "\n",
    "total_fruits = total_fruits_in_stock(**fruits_stock)\n",
    "print(\"Total number of fruits in stock:\", total_fruits)\n"
   ]
  }
 ],
 "metadata": {
  "kernelspec": {
   "display_name": "Python 3",
   "language": "python",
   "name": "python3"
  },
  "language_info": {
   "codemirror_mode": {
    "name": "ipython",
    "version": 3
   },
   "file_extension": ".py",
   "mimetype": "text/x-python",
   "name": "python",
   "nbconvert_exporter": "python",
   "pygments_lexer": "ipython3",
   "version": "3.10.5"
  },
  "orig_nbformat": 4
 },
 "nbformat": 4,
 "nbformat_minor": 2
}
