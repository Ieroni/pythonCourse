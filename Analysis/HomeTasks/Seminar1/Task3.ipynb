{
 "cells": [
  {
   "cell_type": "markdown",
   "metadata": {},
   "source": [
    "### Task3\n",
    "\n",
    "*Дан список с затратами на рекламу. </br> Но в данных есть ошибки, некоторые затраты имеют отрицательную величину. </br>Удалите такие значения из списка и посчитайте суммарные затраты.* </br>\n",
    ">[100, 125, -90, 345, 655, -1, 0, 200] \n",
    "\n",
    "*Используйте list comprehensions*"
   ]
  },
  {
   "cell_type": "code",
   "execution_count": 3,
   "metadata": {},
   "outputs": [
    {
     "name": "stdout",
     "output_type": "stream",
     "text": [
      "Total costs: ([100, 125, 345, 655, 0, 200], 1425)\n"
     ]
    }
   ],
   "source": [
    "def calculate_total_costs(advertising_costs):\n",
    "    # Remove negative values using list comprehension\n",
    "    filtered_costs = [cost for cost in advertising_costs if cost >= 0]\n",
    "\n",
    "    # Calculate the total costs\n",
    "    total_costs = sum(filtered_costs)\n",
    "    return filtered_costs, total_costs\n",
    "\n",
    "# Example usage:\n",
    "advertising_costs = [100, 125, -90, 345, 655, -1, 0, 200]\n",
    "total_costs = calculate_total_costs(advertising_costs)\n",
    "print(\"Total costs:\", total_costs)\n"
   ]
  }
 ],
 "metadata": {
  "kernelspec": {
   "display_name": "Python 3",
   "language": "python",
   "name": "python3"
  },
  "language_info": {
   "codemirror_mode": {
    "name": "ipython",
    "version": 3
   },
   "file_extension": ".py",
   "mimetype": "text/x-python",
   "name": "python",
   "nbconvert_exporter": "python",
   "pygments_lexer": "ipython3",
   "version": "3.10.5"
  },
  "orig_nbformat": 4
 },
 "nbformat": 4,
 "nbformat_minor": 2
}
