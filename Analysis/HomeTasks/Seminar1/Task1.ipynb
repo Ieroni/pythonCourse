{
 "cells": [
  {
   "cell_type": "markdown",
   "metadata": {},
   "source": [
    "# Task1\n",
    "***Оформляйте ноутбук, используя эти советы:***\n",
    "\n",
    "## Номер задачи - заголовок 2\n",
    "### Номер подзадачи - заголовок 3\n",
    "\n",
    "***Предоставленные наборы данных оформляйте, как код***"
   ]
  },
  {
   "cell_type": "code",
   "execution_count": 34,
   "metadata": {},
   "outputs": [
    {
     "data": {
      "text/plain": [
       "({'One': 1, 'Two': 2, 'Three': 3, 'Four': 4, 'five': 5, 'Six': 6},\n",
       " {'One': 1, 'Two': 2, 'Three': 3, 'Four': 4, 'five': 5, 'Six': 6})"
      ]
     },
     "execution_count": 34,
     "metadata": {},
     "output_type": "execute_result"
    }
   ],
   "source": [
    "def jointdict(d1,d2:list):\n",
    "    a = {**d1, **d2}\n",
    "    d1.update(d2)\n",
    "    \n",
    "    return a, d1\n",
    "\n",
    "dict1 = {'One': 1, 'Two': 2, 'Three': 3}\n",
    "dict2 = {'Four': 4, 'five': 5, 'Six': 6}\n",
    "jointdict(dict1,dict2)"
   ]
  }
 ],
 "metadata": {
  "kernelspec": {
   "display_name": "Python 3",
   "language": "python",
   "name": "python3"
  },
  "language_info": {
   "codemirror_mode": {
    "name": "ipython",
    "version": 3
   },
   "file_extension": ".py",
   "mimetype": "text/x-python",
   "name": "python",
   "nbconvert_exporter": "python",
   "pygments_lexer": "ipython3",
   "version": "3.10.5"
  },
  "orig_nbformat": 4
 },
 "nbformat": 4,
 "nbformat_minor": 2
}
